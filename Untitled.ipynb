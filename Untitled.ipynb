{
 "cells": [
  {
   "cell_type": "code",
   "execution_count": 2,
   "metadata": {},
   "outputs": [],
   "source": [
    "import cv2\n",
    "import numpy as np\n",
    "import matplotlib.pyplot as plt\n",
    "from sklearn.metrics import pairwise\n",
    "src=cv2.imread('../DATA/00-puppy.jpg')"
   ]
  },
  {
   "cell_type": "code",
   "execution_count": 3,
   "metadata": {},
   "outputs": [],
   "source": [
    "gray = cv2.cvtColor(src, cv2.COLOR_BGR2GRAY) # convert to grayscale\n",
    "\n",
    "blur = cv2.blur(gray, (3, 3)) # blur the image\n",
    "\n",
    "ret, thresh = cv2.threshold(blur, 50, 255, cv2.THRESH_BINARY)\n"
   ]
  },
  {
   "cell_type": "code",
   "execution_count": 4,
   "metadata": {},
   "outputs": [
    {
     "data": {
      "text/plain": [
       "<matplotlib.image.AxesImage at 0x1f4d4cd6f88>"
      ]
     },
     "execution_count": 4,
     "metadata": {},
     "output_type": "execute_result"
    },
    {
     "data": {
      "image/png": "[encoded data removed]",
      "text/plain": [
       "<Figure size 432x288 with 1 Axes>"
      ]
     },
     "metadata": {
      "needs_background": "light"
     },
     "output_type": "display_data"
    }
   ],
   "source": [
    "plt.imshow(thresh,cmap='gray')"
   ]
  },
  {
   "cell_type": "code",
   "execution_count": 5,
   "metadata": {},
   "outputs": [],
   "source": [
    "contours,hirarchy=cv2.findContours(thresh,cv2.RETR_TREE, cv2.CHAIN_APPROX_SIMPLE)"
   ]
  },
  {
   "cell_type": "code",
   "execution_count": 6,
   "metadata": {},
   "outputs": [
    {
     "data": {
      "text/plain": [
       "array([[[  1,  -1,  -1,  -1],\n",
       "        [  2,   0,  -1,  -1],\n",
       "        [  3,   1,  -1,  -1],\n",
       "        [  4,   2,  -1,  -1],\n",
       "        [  5,   3,  -1,  -1],\n",
       "        [  6,   4,  -1,  -1],\n",
       "        [  7,   5,  -1,  -1],\n",
       "        [  8,   6,  -1,  -1],\n",
       "        [  9,   7,  -1,  -1],\n",
       "        [ 10,   8,  -1,  -1],\n",
       "        [ 11,   9,  -1,  -1],\n",
       "        [ 12,  10,  -1,  -1],\n",
       "        [ 13,  11,  -1,  -1],\n",
       "        [ 14,  12,  -1,  -1],\n",
       "        [ 15,  13,  -1,  -1],\n",
       "        [ 16,  14,  -1,  -1],\n",
       "        [ 17,  15,  -1,  -1],\n",
       "        [ 18,  16,  -1,  -1],\n",
       "        [ 19,  17,  -1,  -1],\n",
       "        [ 20,  18,  -1,  -1],\n",
       "        [ 21,  19,  -1,  -1],\n",
       "        [ 22,  20,  -1,  -1],\n",
       "        [ 23,  21,  -1,  -1],\n",
       "        [ 24,  22,  -1,  -1],\n",
       "        [ 25,  23,  -1,  -1],\n",
       "        [ 26,  24,  -1,  -1],\n",
       "        [ 27,  25,  -1,  -1],\n",
       "        [ 28,  26,  -1,  -1],\n",
       "        [ 29,  27,  -1,  -1],\n",
       "        [ 30,  28,  -1,  -1],\n",
       "        [ 31,  29,  -1,  -1],\n",
       "        [ 32,  30,  -1,  -1],\n",
       "        [ 33,  31,  -1,  -1],\n",
       "        [ 35,  32,  34,  -1],\n",
       "        [ -1,  -1,  -1,  33],\n",
       "        [ 36,  33,  -1,  -1],\n",
       "        [185,  35,  37,  -1],\n",
       "        [ 38,  -1,  -1,  36],\n",
       "        [ 39,  37,  -1,  36],\n",
       "        [ 40,  38,  -1,  36],\n",
       "        [ 41,  39,  -1,  36],\n",
       "        [ 42,  40,  -1,  36],\n",
       "        [ 43,  41,  -1,  36],\n",
       "        [ 44,  42,  -1,  36],\n",
       "        [ 45,  43,  -1,  36],\n",
       "        [ 46,  44,  -1,  36],\n",
       "        [ 47,  45,  -1,  36],\n",
       "        [ 48,  46,  -1,  36],\n",
       "        [ 49,  47,  -1,  36],\n",
       "        [ 50,  48,  -1,  36],\n",
       "        [ 51,  49,  -1,  36],\n",
       "        [ 52,  50,  -1,  36],\n",
       "        [ 53,  51,  -1,  36],\n",
       "        [ 54,  52,  -1,  36],\n",
       "        [ 55,  53,  -1,  36],\n",
       "        [ 56,  54,  -1,  36],\n",
       "        [ 57,  55,  -1,  36],\n",
       "        [ 58,  56,  -1,  36],\n",
       "        [ 59,  57,  -1,  36],\n",
       "        [ 60,  58,  -1,  36],\n",
       "        [ 61,  59,  -1,  36],\n",
       "        [ 62,  60,  -1,  36],\n",
       "        [ 63,  61,  -1,  36],\n",
       "        [ 65,  62,  64,  36],\n",
       "        [ -1,  -1,  -1,  63],\n",
       "        [ 66,  63,  -1,  36],\n",
       "        [ 67,  65,  -1,  36],\n",
       "        [ 68,  66,  -1,  36],\n",
       "        [ 69,  67,  -1,  36],\n",
       "        [ 70,  68,  -1,  36],\n",
       "        [ 71,  69,  -1,  36],\n",
       "        [ 72,  70,  -1,  36],\n",
       "        [ 73,  71,  -1,  36],\n",
       "        [ 74,  72,  -1,  36],\n",
       "        [ 75,  73,  -1,  36],\n",
       "        [ 76,  74,  -1,  36],\n",
       "        [ 77,  75,  -1,  36],\n",
       "        [ 78,  76,  -1,  36],\n",
       "        [ 79,  77,  -1,  36],\n",
       "        [ 80,  78,  -1,  36],\n",
       "        [ 81,  79,  -1,  36],\n",
       "        [ 82,  80,  -1,  36],\n",
       "        [ 83,  81,  -1,  36],\n",
       "        [ 84,  82,  -1,  36],\n",
       "        [ 85,  83,  -1,  36],\n",
       "        [ 86,  84,  -1,  36],\n",
       "        [ 87,  85,  -1,  36],\n",
       "        [ 88,  86,  -1,  36],\n",
       "        [ 89,  87,  -1,  36],\n",
       "        [ 91,  88,  90,  36],\n",
       "        [ -1,  -1,  -1,  89],\n",
       "        [ 96,  89,  92,  36],\n",
       "        [ 93,  -1,  -1,  91],\n",
       "        [ 94,  92,  -1,  91],\n",
       "        [ 95,  93,  -1,  91],\n",
       "        [ -1,  94,  -1,  91],\n",
       "        [ 97,  91,  -1,  36],\n",
       "        [ 98,  96,  -1,  36],\n",
       "        [ 99,  97,  -1,  36],\n",
       "        [100,  98,  -1,  36],\n",
       "        [101,  99,  -1,  36],\n",
       "        [102, 100,  -1,  36],\n",
       "        [103, 101,  -1,  36],\n",
       "        [108, 102, 104,  36],\n",
       "        [105,  -1,  -1, 103],\n",
       "        [106, 104,  -1, 103],\n",
       "        [107, 105,  -1, 103],\n",
       "        [ -1, 106,  -1, 103],\n",
       "        [109, 103,  -1,  36],\n",
       "        [113, 108, 110,  36],\n",
       "        [111,  -1,  -1, 109],\n",
       "        [112, 110,  -1, 109],\n",
       "        [ -1, 111,  -1, 109],\n",
       "        [114, 109,  -1,  36],\n",
       "        [115, 113,  -1,  36],\n",
       "        [116, 114,  -1,  36],\n",
       "        [117, 115,  -1,  36],\n",
       "        [118, 116,  -1,  36],\n",
       "        [119, 117,  -1,  36],\n",
       "        [120, 118,  -1,  36],\n",
       "        [121, 119,  -1,  36],\n",
       "        [122, 120,  -1,  36],\n",
       "        [123, 121,  -1,  36],\n",
       "        [124, 122,  -1,  36],\n",
       "        [125, 123,  -1,  36],\n",
       "        [126, 124,  -1,  36],\n",
       "        [127, 125,  -1,  36],\n",
       "        [128, 126,  -1,  36],\n",
       "        [129, 127,  -1,  36],\n",
       "        [130, 128,  -1,  36],\n",
       "        [131, 129,  -1,  36],\n",
       "        [132, 130,  -1,  36],\n",
       "        [133, 131,  -1,  36],\n",
       "        [134, 132,  -1,  36],\n",
       "        [135, 133,  -1,  36],\n",
       "        [136, 134,  -1,  36],\n",
       "        [137, 135,  -1,  36],\n",
       "        [138, 136,  -1,  36],\n",
       "        [139, 137,  -1,  36],\n",
       "        [140, 138,  -1,  36],\n",
       "        [141, 139,  -1,  36],\n",
       "        [142, 140,  -1,  36],\n",
       "        [143, 141,  -1,  36],\n",
       "        [144, 142,  -1,  36],\n",
       "        [145, 143,  -1,  36],\n",
       "        [146, 144,  -1,  36],\n",
       "        [147, 145,  -1,  36],\n",
       "        [148, 146,  -1,  36],\n",
       "        [149, 147,  -1,  36],\n",
       "        [150, 148,  -1,  36],\n",
       "        [151, 149,  -1,  36],\n",
       "        [152, 150,  -1,  36],\n",
       "        [153, 151,  -1,  36],\n",
       "        [154, 152,  -1,  36],\n",
       "        [155, 153,  -1,  36],\n",
       "        [156, 154,  -1,  36],\n",
       "        [157, 155,  -1,  36],\n",
       "        [158, 156,  -1,  36],\n",
       "        [159, 157,  -1,  36],\n",
       "        [160, 158,  -1,  36],\n",
       "        [161, 159,  -1,  36],\n",
       "        [162, 160,  -1,  36],\n",
       "        [163, 161,  -1,  36],\n",
       "        [164, 162,  -1,  36],\n",
       "        [165, 163,  -1,  36],\n",
       "        [166, 164,  -1,  36],\n",
       "        [167, 165,  -1,  36],\n",
       "        [168, 166,  -1,  36],\n",
       "        [169, 167,  -1,  36],\n",
       "        [170, 168,  -1,  36],\n",
       "        [171, 169,  -1,  36],\n",
       "        [172, 170,  -1,  36],\n",
       "        [173, 171,  -1,  36],\n",
       "        [174, 172,  -1,  36],\n",
       "        [175, 173,  -1,  36],\n",
       "        [176, 174,  -1,  36],\n",
       "        [177, 175,  -1,  36],\n",
       "        [178, 176,  -1,  36],\n",
       "        [179, 177,  -1,  36],\n",
       "        [180, 178,  -1,  36],\n",
       "        [181, 179,  -1,  36],\n",
       "        [182, 180,  -1,  36],\n",
       "        [183, 181,  -1,  36],\n",
       "        [184, 182,  -1,  36],\n",
       "        [ -1, 183,  -1,  36],\n",
       "        [ -1,  36,  -1,  -1]]], dtype=int32)"
      ]
     },
     "execution_count": 6,
     "metadata": {},
     "output_type": "execute_result"
    }
   ],
   "source": [
    "hirarchy"
   ]
  },
  {
   "cell_type": "code",
   "execution_count": 7,
   "metadata": {},
   "outputs": [],
   "source": [
    "hull = []\n",
    "\n",
    "for i in range(len(contours)):\n",
    "\n",
    "    # creating convex hull object for each contour\n",
    "\n",
    "    hull.append(cv2.convexHull(contours[i], False))\n"
   ]
  },
  {
   "cell_type": "code",
   "execution_count": 8,
   "metadata": {},
   "outputs": [],
   "source": [
    "drawing = np.zeros((thresh.shape[0], thresh.shape[1], 3), np.uint8)"
   ]
  },
  {
   "cell_type": "code",
   "execution_count": 13,
   "metadata": {},
   "outputs": [],
   "source": [
    "for i in range(len(contours)):\n",
    "\n",
    "    color_contours = (0, 255, 0) # green - color for contours\n",
    "\n",
    "    color = (255, 0, 0) # blue - color for convex hull\n",
    "\n",
    "    # draw ith contour\n",
    "\n",
    "    cv2.drawContours(drawing, contours, i, color_contours, 10, 8, hirarchy)\n",
    "\n",
    "    # draw ith convex hull object\n",
    "\n",
    "    cv2.drawContours(drawing, hull, i, color, 1, 8)\n"
   ]
  },
  {
   "cell_type": "code",
   "execution_count": 15,
   "metadata": {},
   "outputs": [
    {
     "data": {
      "text/plain": [
       "<matplotlib.image.AxesImage at 0x1f4dd1ff708>"
      ]
     },
     "execution_count": 15,
     "metadata": {},
     "output_type": "execute_result"
    },
    {
     "data": {
      "image/png": "[encoded data removed]",
      "text/plain": [
       "<Figure size 432x288 with 1 Axes>"
      ]
     },
     "metadata": {
      "needs_background": "light"
     },
     "output_type": "display_data"
    }
   ],
   "source": [
    "plt.imshow(drawing,cmap='gray')\n",
    "new=cv2.bitwise_not(drawing)\n",
    "plt.imshow(new,cmap='gray')"
   ]
  },
  {
   "cell_type": "code",
   "execution_count": 3,
   "metadata": {},
   "outputs": [],
   "source": [
    "import numpy as np \n",
    "import cv2 \n",
    "  \n",
    "# creating object \n",
    "fgbg1 = cv2.bgsegm.createBackgroundSubtractorMOG();    \n",
    "fgbg2 = cv2.createBackgroundSubtractorMOG2(); \n",
    "fgbg3 = cv2.bgsegm.createBackgroundSubtractorGMG(); \n",
    "  \n",
    "# capture frames from a camera  \n",
    "cap = cv2.VideoCapture(0); \n",
    "while(1): \n",
    "    # read frames \n",
    "    ret, img = cap.read(); \n",
    "      \n",
    "    # apply mask for background subtraction \n",
    "    fgmask1 = fgbg1.apply(img); \n",
    "    fgmask2 = fgbg2.apply(img); \n",
    "    fgmask3 = fgbg3.apply(img); \n",
    "      \n",
    "    cv2.imshow('Original', img); \n",
    "    cv2.imshow('MOG', fgmask1); \n",
    "    cv2.imshow('MOG2', fgmask2); \n",
    "    cv2.imshow('GMG', fgmask3); \n",
    "    k = cv2.waitKey(30) & 0xff; \n",
    "    if k == 27: \n",
    "        break; \n",
    "  \n",
    "cap.release(); \n",
    "cv2.destroyAllWindows(); "
   ]
  },
  {
   "cell_type": "code",
   "execution_count": 42,
   "metadata": {},
   "outputs": [],
   "source": [
    "roi_top = 60\n",
    "roi_bottom = 330\n",
    "roi_right = 300\n",
    "roi_left = 600\n",
    "\n",
    "cam=cv2.VideoCapture(0)\n",
    "while(True):\n",
    "    # get the current frame\n",
    "    ret, frame = cam.read()\n",
    "\n",
    "    # flip the frame so that it is not the mirror view\n",
    "    frame = cv2.flip(frame, 1)\n",
    "\n",
    "    # clone the frame\n",
    "    frame_copy = frame.copy()\n",
    "    cv2.imshow(\"Finger Count\", frame_copy)\n",
    "    gray=cv2.GaussianBlur(gray, (7, 7), 0)\n",
    "    \n",
    "    \n",
    "    # Close windows with Esc\n",
    "    k = cv2.waitKey(1) & 0xFF\n",
    "\n",
    "    if k == 27:\n",
    "        break\n",
    "    "
   ]
  },
  {
   "cell_type": "code",
   "execution_count": null,
   "metadata": {},
   "outputs": [],
   "source": [
    "cam = cv2.VideoCapture(0)\n",
    "\n",
    "# Intialize a frame count\n",
    "num_frames = 0\n",
    "\n",
    "# keep looping, until interrupted\n",
    "while True:\n",
    "    # get the current frame\n",
    "    ret, frame = cam.read()\n",
    "\n",
    "    # flip the frame so that it is not the mirror view\n",
    "    frame = cv2.flip(frame, 1)\n",
    "\n",
    "    # clone the frame\n",
    "    frame_copy = frame.copy()\n",
    "\n",
    "    # Grab the ROI from the frame\n",
    "    roi = frame[roi_top:roi_bottom, roi_right:roi_left]\n",
    "\n",
    "    # Apply grayscale and blur to ROI\n",
    "    gray = cv2.cvtColor(roi, cv2.COLOR_BGR2GRAY)\n",
    "    "
   ]
  },
  {
   "cell_type": "code",
   "execution_count": null,
   "metadata": {},
   "outputs": [],
   "source": []
  },
  {
   "cell_type": "code",
   "execution_count": null,
   "metadata": {},
   "outputs": [],
   "source": []
  },
  {
   "cell_type": "code",
   "execution_count": null,
   "metadata": {},
   "outputs": [],
   "source": []
  },
  {
   "cell_type": "code",
   "execution_count": null,
   "metadata": {},
   "outputs": [],
   "source": []
  },
  {
   "cell_type": "code",
   "execution_count": null,
   "metadata": {},
   "outputs": [],
   "source": []
  },
  {
   "cell_type": "code",
   "execution_count": null,
   "metadata": {},
   "outputs": [],
   "source": []
  },
  {
   "cell_type": "code",
   "execution_count": null,
   "metadata": {},
   "outputs": [],
   "source": []
  },
  {
   "cell_type": "code",
   "execution_count": null,
   "metadata": {},
   "outputs": [],
   "source": []
  },
  {
   "cell_type": "code",
   "execution_count": null,
   "metadata": {},
   "outputs": [],
   "source": []
  },
  {
   "cell_type": "code",
   "execution_count": null,
   "metadata": {},
   "outputs": [],
   "source": []
  },
  {
   "cell_type": "code",
   "execution_count": null,
   "metadata": {},
   "outputs": [],
   "source": []
  }
 ],
 "metadata": {
  "kernelspec": {
   "display_name": "Python 3",
   "language": "python",
   "name": "python3"
  },
  "language_info": {
   "codemirror_mode": {
    "name": "ipython",
    "version": 3
   },
   "file_extension": ".py",
   "mimetype": "text/x-python",
   "name": "python",
   "nbconvert_exporter": "python",
   "pygments_lexer": "ipython3",
   "version": "3.7.7"
  }
 },
 "nbformat": 4,
 "nbformat_minor": 2
}
